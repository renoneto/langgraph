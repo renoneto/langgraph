{
 "cells": [
  {
   "cell_type": "markdown",
   "metadata": {},
   "source": [
    "# Concepts\n",
    "\n",
    "- State Machine vs Graph\n",
    "- Flow Engineering: \n",
    "  - Analyzes and visualizes how work moves > mimicing human processes.\n",
    "  - Identifies and removes bottlenecks.\n",
    "  - Optimizes the speed and efficiency of processes.\n",
    "  - Focuses on smooth and continuous delivery.\n",
    "  - Measures and improves flow metrics.\n",
    "\n",
    "# LangGraph \n",
    "\n",
    "## Initial Concepts:\n",
    "\n",
    "### Nodes\n",
    "- Simple function\n",
    "- Code that calls an LLM\n",
    "- LLM Agent\n",
    "\n",
    "### Edges\n",
    "- Connects the nodes\n",
    "\n",
    "### Conditional Edges\n",
    "- Make decisions about which node to call next based on the output of the previous node.\n",
    "\n",
    "### State Management\n",
    "- Keeps track of the current state of the graph and the data flowing through it.\n",
    "- Simply a dictionary with information about the current node, the input data, and any other relevant information.\n",
    "- It's accessible to all nodes in the graph, allowing them to read and write data as needed.\n",
    "- The state is updated as the graph processes data, enabling it to adapt to changing conditions and requirements.\n",
    "\n",
    "#### Putting it all together\n",
    "- A Node will return a dictionary that updates the state.\n",
    "- Edges and Conditional Edges will use the state to determine which node to call next.\n",
    "\n",
    "## More Concepts\n",
    "\n",
    "### Cyclic Graphs\n",
    "- A graph that can loop back to previous nodes, allowing for repeated processing of data.\n",
    "- Useful for tasks that require iterative refinement or feedback loops.\n",
    "\n",
    "### Human in the Loop\n",
    "- A mechanism that allows human input to be integrated into the graph's processing flow.\n",
    "- This can be done through a node that prompts a user for input or feedback, which is then used to inform the next steps in the graph.\n",
    "- This is particularly useful for tasks that require human judgment or expertise, such as content review or quality assurance.\n",
    "\n",
    "### Persistence\n",
    "- The ability to save the current state of the graph and resume processing later.\n",
    "- This can be achieved through serialization of the state dictionary, allowing it to be stored in a database or file system.\n",
    "- Persistence is important for long-running processes or workflows that may need to be paused and resumed at a later time.\n",
    "- It also enables the graph to maintain context and continuity across multiple runs, making it easier to manage complex workflows.\n",
    "\n",
    "## Reflection Agent Example\n",
    "- An agent will help us review tweets\n",
    "- It will help us iterate and make it better\n",
    "- It will take the initial tweet, reflect and critize it, and then suggest improvements.\n",
    "- Then given the reflections it will generate a new tweet\n",
    "- And it repeats until we are happy with the result.\n",
    "\n",
    "\n",
    "<img src=\"../images/reflection_agent.jpg\" alt=\"Reflection Agent\" width=\"300\"/>\n"
   ]
  },
  {
   "cell_type": "code",
   "execution_count": null,
   "metadata": {},
   "outputs": [],
   "source": []
  },
  {
   "cell_type": "code",
   "execution_count": null,
   "metadata": {},
   "outputs": [],
   "source": []
  }
 ],
 "metadata": {
  "kernelspec": {
   "display_name": "langgraph",
   "language": "python",
   "name": "python3"
  },
  "language_info": {
   "codemirror_mode": {
    "name": "ipython",
    "version": 3
   },
   "file_extension": ".py",
   "mimetype": "text/x-python",
   "name": "python",
   "nbconvert_exporter": "python",
   "pygments_lexer": "ipython3",
   "version": "3.10.6"
  }
 },
 "nbformat": 4,
 "nbformat_minor": 2
}
