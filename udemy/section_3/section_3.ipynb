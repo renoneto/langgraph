{
 "cells": [
  {
   "cell_type": "markdown",
   "metadata": {},
   "source": [
    "# ReAct Agent\n",
    "\n",
    "- **ReAct stands for \"Reason + Act.**\" This highlights its core functionality: alternating between reasoning steps and action steps.\n",
    "- **Reasoning**: The agent generates verbal reasoning traces to think about the task, plan actions, and observe results. This is similar to how humans use thought processes to break down problems.\n",
    "- **Acting**: The agent interacts with an environment or tools by taking actions, such as searching information, using calculators, or querying APIs.\n",
    "- **Iterative Process**: ReAct agents don't just act once. They engage in an iterative loop:\n",
    "  - They reason about the current state.\n",
    "  - They take an action based on that reasoning.\n",
    "  - They observe the result of the action.\n",
    "  - They reason about the new state.\n",
    "  - They take another **action**, and so on.\n",
    "\n",
    "**Benefits**:\n",
    "- Improved Reasoning: The reasoning traces help the model maintain context and track its progress, leading to better decision-making.\n",
    "- Enhanced Tool Use: The ability to take actions allows ReAct agents to interact with external tools and information sources, extending their capabilities beyond what a language model alone can do.\n",
    "- Better Handling of Complex Tasks: By breaking down complex tasks into smaller, manageable steps, ReAct agents can tackle problems that would be difficult for traditional language models.\n",
    "\n",
    "**Use Cases: ReAct agents are well-suited for tasks that require:**\n",
    "- Information retrieval.\n",
    "- Question answering.\n",
    "- Interactive problem-solving.\n",
    "- Tasks where tool usage is needed.\n",
    "\n",
    "# Custom State\n",
    "We need to keep track of: \n",
    "- User's request\n",
    "- Current result of the agent\n",
    "- History with steps we have taken so far"
   ]
  },
  {
   "cell_type": "code",
   "execution_count": null,
   "metadata": {},
   "outputs": [],
   "source": []
  },
  {
   "cell_type": "code",
   "execution_count": null,
   "metadata": {},
   "outputs": [],
   "source": []
  }
 ],
 "metadata": {
  "kernelspec": {
   "display_name": "langgraph",
   "language": "python",
   "name": "python3"
  },
  "language_info": {
   "name": "python",
   "version": "3.10.6"
  }
 },
 "nbformat": 4,
 "nbformat_minor": 2
}
